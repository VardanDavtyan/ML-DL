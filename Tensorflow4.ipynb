{
  "nbformat": 4,
  "nbformat_minor": 0,
  "metadata": {
    "colab": {
      "provenance": [],
      "authorship_tag": "ABX9TyPhSWVfN3JWVl5HcCsqWaCg",
      "include_colab_link": true
    },
    "kernelspec": {
      "name": "python3",
      "display_name": "Python 3"
    },
    "language_info": {
      "name": "python"
    }
  },
  "cells": [
    {
      "cell_type": "markdown",
      "metadata": {
        "id": "view-in-github",
        "colab_type": "text"
      },
      "source": [
        "<a href=\"https://colab.research.google.com/github/VardanDavtyan/ML-DL/blob/main/Tensorflow4.ipynb\" target=\"_parent\"><img src=\"https://colab.research.google.com/assets/colab-badge.svg\" alt=\"Open In Colab\"/></a>"
      ]
    },
    {
      "cell_type": "code",
      "execution_count": null,
      "metadata": {
        "id": "pJDY1jH5aAZY"
      },
      "outputs": [],
      "source": [
        "import os\n",
        "import tensorflow as tf"
      ]
    },
    {
      "cell_type": "code",
      "source": [
        "class DenseNN(tf.Module):\n",
        "\n",
        "  def __init__(self, outputs):\n",
        "    super().__init__()\n",
        "    self.outputs = outputs\n",
        "    self.fl_init = False\n",
        "\n",
        "  def __call__(self, x):\n",
        "    if not self.fl_init:\n",
        "      self.w = tf.random.truncated_normal((x.shape[-1], self.outputs), stddev=0.1, name=\"w\")\n",
        "      self.b = tf.zeros([self.outputs], dtype=tf.float32, name=\"b\")\n",
        "\n",
        "      self.w = tf.Variable(self.w)\n",
        "      self.b = tf.Variable(self.b)\n",
        "\n",
        "      self.fl_init = True\n",
        "    y = x @ self.w + self.b\n",
        "    return y\n",
        "\n",
        "\n",
        "\n"
      ],
      "metadata": {
        "id": "4K-bBN5EaQfD"
      },
      "execution_count": null,
      "outputs": []
    },
    {
      "cell_type": "code",
      "source": [
        "model = DenseNN(1) #1 is neurons count\n",
        "\n",
        "x_train = tf.random.uniform(minval=0, maxval=10, shape=(100, 2))\n",
        "y_train = [a + b for a, b in x_train]\n",
        "\n",
        "loss = lambda x, y: tf.reduce_mean(tf.square(x - y))\n",
        "opt = tf.optimizers.Adam(learning_rate=0.01)\n",
        "\n",
        "EPOCHS = 50\n",
        "for n in range(EPOCHS):\n",
        "  for x, y in zip(x_train, y_train):\n",
        "    x = tf.expand_dims(x, axis=0)\n",
        "    y = tf.constant(y, shape=(1, 1))\n",
        "\n",
        "    with tf.GradientTape() as tape:\n",
        "      f_loss = loss(y, model(x))\n",
        "\n",
        "    grads = tape.gradient(f_loss, model.trainable_variables)\n",
        "    opt.apply_gradients(zip(grads, model.trainable_variables))\n",
        "\n",
        "print(y_train)\n",
        "print(model.trainable_variables)\n",
        "print(model(tf.constant([[1.0, 2.0]])))"
      ],
      "metadata": {
        "colab": {
          "base_uri": "https://localhost:8080/"
        },
        "id": "2A-Wu8A3caHb",
        "outputId": "17f7666c-ae52-4661-d2b0-024cf2c95b09"
      },
      "execution_count": null,
      "outputs": [
        {
          "output_type": "stream",
          "name": "stdout",
          "text": [
            "[<tf.Tensor: shape=(), dtype=float32, numpy=13.259174>, <tf.Tensor: shape=(), dtype=float32, numpy=8.366447>, <tf.Tensor: shape=(), dtype=float32, numpy=12.851585>, <tf.Tensor: shape=(), dtype=float32, numpy=8.095037>, <tf.Tensor: shape=(), dtype=float32, numpy=12.607598>, <tf.Tensor: shape=(), dtype=float32, numpy=7.403388>, <tf.Tensor: shape=(), dtype=float32, numpy=18.49841>, <tf.Tensor: shape=(), dtype=float32, numpy=9.951767>, <tf.Tensor: shape=(), dtype=float32, numpy=10.722079>, <tf.Tensor: shape=(), dtype=float32, numpy=7.310716>, <tf.Tensor: shape=(), dtype=float32, numpy=5.7290792>, <tf.Tensor: shape=(), dtype=float32, numpy=12.834086>, <tf.Tensor: shape=(), dtype=float32, numpy=12.572389>, <tf.Tensor: shape=(), dtype=float32, numpy=5.777631>, <tf.Tensor: shape=(), dtype=float32, numpy=8.6195135>, <tf.Tensor: shape=(), dtype=float32, numpy=14.07619>, <tf.Tensor: shape=(), dtype=float32, numpy=8.830989>, <tf.Tensor: shape=(), dtype=float32, numpy=10.676219>, <tf.Tensor: shape=(), dtype=float32, numpy=7.1434727>, <tf.Tensor: shape=(), dtype=float32, numpy=7.593604>, <tf.Tensor: shape=(), dtype=float32, numpy=10.750412>, <tf.Tensor: shape=(), dtype=float32, numpy=4.5566034>, <tf.Tensor: shape=(), dtype=float32, numpy=8.418627>, <tf.Tensor: shape=(), dtype=float32, numpy=10.913957>, <tf.Tensor: shape=(), dtype=float32, numpy=6.9180083>, <tf.Tensor: shape=(), dtype=float32, numpy=2.7645278>, <tf.Tensor: shape=(), dtype=float32, numpy=14.321659>, <tf.Tensor: shape=(), dtype=float32, numpy=6.489686>, <tf.Tensor: shape=(), dtype=float32, numpy=14.799098>, <tf.Tensor: shape=(), dtype=float32, numpy=10.819593>, <tf.Tensor: shape=(), dtype=float32, numpy=5.221223>, <tf.Tensor: shape=(), dtype=float32, numpy=7.4713087>, <tf.Tensor: shape=(), dtype=float32, numpy=7.3554077>, <tf.Tensor: shape=(), dtype=float32, numpy=5.1033545>, <tf.Tensor: shape=(), dtype=float32, numpy=5.7321954>, <tf.Tensor: shape=(), dtype=float32, numpy=10.650292>, <tf.Tensor: shape=(), dtype=float32, numpy=9.767004>, <tf.Tensor: shape=(), dtype=float32, numpy=10.529104>, <tf.Tensor: shape=(), dtype=float32, numpy=16.936808>, <tf.Tensor: shape=(), dtype=float32, numpy=10.336374>, <tf.Tensor: shape=(), dtype=float32, numpy=4.112591>, <tf.Tensor: shape=(), dtype=float32, numpy=1.3085103>, <tf.Tensor: shape=(), dtype=float32, numpy=17.00202>, <tf.Tensor: shape=(), dtype=float32, numpy=9.832524>, <tf.Tensor: shape=(), dtype=float32, numpy=2.776866>, <tf.Tensor: shape=(), dtype=float32, numpy=4.153979>, <tf.Tensor: shape=(), dtype=float32, numpy=9.774546>, <tf.Tensor: shape=(), dtype=float32, numpy=13.289852>, <tf.Tensor: shape=(), dtype=float32, numpy=9.614347>, <tf.Tensor: shape=(), dtype=float32, numpy=4.534898>, <tf.Tensor: shape=(), dtype=float32, numpy=8.483087>, <tf.Tensor: shape=(), dtype=float32, numpy=11.503861>, <tf.Tensor: shape=(), dtype=float32, numpy=10.592944>, <tf.Tensor: shape=(), dtype=float32, numpy=4.5527744>, <tf.Tensor: shape=(), dtype=float32, numpy=8.889733>, <tf.Tensor: shape=(), dtype=float32, numpy=19.419315>, <tf.Tensor: shape=(), dtype=float32, numpy=12.333132>, <tf.Tensor: shape=(), dtype=float32, numpy=5.539249>, <tf.Tensor: shape=(), dtype=float32, numpy=8.390568>, <tf.Tensor: shape=(), dtype=float32, numpy=10.332668>, <tf.Tensor: shape=(), dtype=float32, numpy=8.511868>, <tf.Tensor: shape=(), dtype=float32, numpy=9.504647>, <tf.Tensor: shape=(), dtype=float32, numpy=14.686547>, <tf.Tensor: shape=(), dtype=float32, numpy=9.705004>, <tf.Tensor: shape=(), dtype=float32, numpy=11.3624935>, <tf.Tensor: shape=(), dtype=float32, numpy=9.449476>, <tf.Tensor: shape=(), dtype=float32, numpy=14.446201>, <tf.Tensor: shape=(), dtype=float32, numpy=16.661549>, <tf.Tensor: shape=(), dtype=float32, numpy=12.188531>, <tf.Tensor: shape=(), dtype=float32, numpy=8.595577>, <tf.Tensor: shape=(), dtype=float32, numpy=16.866302>, <tf.Tensor: shape=(), dtype=float32, numpy=12.293488>, <tf.Tensor: shape=(), dtype=float32, numpy=8.938361>, <tf.Tensor: shape=(), dtype=float32, numpy=4.322169>, <tf.Tensor: shape=(), dtype=float32, numpy=16.651245>, <tf.Tensor: shape=(), dtype=float32, numpy=17.216925>, <tf.Tensor: shape=(), dtype=float32, numpy=6.1424103>, <tf.Tensor: shape=(), dtype=float32, numpy=8.090771>, <tf.Tensor: shape=(), dtype=float32, numpy=3.5992956>, <tf.Tensor: shape=(), dtype=float32, numpy=11.969505>, <tf.Tensor: shape=(), dtype=float32, numpy=10.09174>, <tf.Tensor: shape=(), dtype=float32, numpy=5.515006>, <tf.Tensor: shape=(), dtype=float32, numpy=9.548847>, <tf.Tensor: shape=(), dtype=float32, numpy=17.216587>, <tf.Tensor: shape=(), dtype=float32, numpy=9.065814>, <tf.Tensor: shape=(), dtype=float32, numpy=8.045402>, <tf.Tensor: shape=(), dtype=float32, numpy=11.696848>, <tf.Tensor: shape=(), dtype=float32, numpy=4.1429815>, <tf.Tensor: shape=(), dtype=float32, numpy=7.2155485>, <tf.Tensor: shape=(), dtype=float32, numpy=6.4596996>, <tf.Tensor: shape=(), dtype=float32, numpy=18.40607>, <tf.Tensor: shape=(), dtype=float32, numpy=10.7908325>, <tf.Tensor: shape=(), dtype=float32, numpy=11.519127>, <tf.Tensor: shape=(), dtype=float32, numpy=4.762428>, <tf.Tensor: shape=(), dtype=float32, numpy=13.891799>, <tf.Tensor: shape=(), dtype=float32, numpy=11.59965>, <tf.Tensor: shape=(), dtype=float32, numpy=4.846069>, <tf.Tensor: shape=(), dtype=float32, numpy=6.6059914>, <tf.Tensor: shape=(), dtype=float32, numpy=4.4956913>, <tf.Tensor: shape=(), dtype=float32, numpy=12.438541>]\n",
            "(<tf.Variable 'Variable:0' shape=(1,) dtype=float32, numpy=array([2.0113579e-05], dtype=float32)>, <tf.Variable 'Variable:0' shape=(2, 1) dtype=float32, numpy=\n",
            "array([[0.99999744],\n",
            "       [0.9999989 ]], dtype=float32)>)\n",
            "tf.Tensor([[3.0000153]], shape=(1, 1), dtype=float32)\n"
          ]
        }
      ]
    },
    {
      "cell_type": "code",
      "source": [],
      "metadata": {
        "id": "xfI2dYKvesot"
      },
      "execution_count": null,
      "outputs": []
    }
  ]
}
{
  "nbformat": 4,
  "nbformat_minor": 0,
  "metadata": {
    "colab": {
      "provenance": [],
      "authorship_tag": "ABX9TyPxQrAZMS6XtbayJeks3mw0",
      "include_colab_link": true
    },
    "kernelspec": {
      "name": "python3",
      "display_name": "Python 3"
    },
    "language_info": {
      "name": "python"
    }
  },
  "cells": [
    {
      "cell_type": "markdown",
      "metadata": {
        "id": "view-in-github",
        "colab_type": "text"
      },
      "source": [
        "<a href=\"https://colab.research.google.com/github/VardanDavtyan/ML-DL/blob/main/BayesClassification.ipynb\" target=\"_parent\"><img src=\"https://colab.research.google.com/assets/colab-badge.svg\" alt=\"Open In Colab\"/></a>"
      ]
    },
    {
      "cell_type": "code",
      "execution_count": null,
      "metadata": {
        "colab": {
          "base_uri": "https://localhost:8080/"
        },
        "id": "NC7I5RdfDX8s",
        "outputId": "aeb20018-4f7d-4e01-fa75-350f90e6f593"
      },
      "outputs": [
        {
          "output_type": "execute_result",
          "data": {
            "text/plain": [
              "(31.0, 35.0)"
            ]
          },
          "metadata": {},
          "execution_count": 1
        }
      ],
      "source": [
        "import numpy as np\n",
        "import matplotlib.pyplot as plt\n",
        "\n",
        "\n",
        "x_train = np.array([[10, 50], [20, 30], [25, 30], [20, 60], [15, 70], [40, 40], [30, 45], [20, 45], [40, 30], [7, 35]])\n",
        "y_train = np.array([-1, 1, 1, -1, -1, 1, 1, -1, 1, -1])\n",
        "\n",
        "mw1, ml1 = np.mean(x_train[y_train == 1], axis=0)\n",
        "mw_1, ml_1 = np.mean(x_train[y_train == -1], axis=0)\n",
        "mw1, ml1"
      ]
    },
    {
      "cell_type": "code",
      "source": [
        "sw1, sl1 = np.var(x_train[y_train == 1], axis=0)\n",
        "sw_1, sl_1 = np.var(x_train[y_train == -1], axis=0)\n",
        "\n",
        "print('МО: ', mw1, ml1, mw_1, ml_1)\n",
        "print('Дисперсии:', sw1, sl1, sw_1, sl_1)"
      ],
      "metadata": {
        "colab": {
          "base_uri": "https://localhost:8080/"
        },
        "id": "s5Sx1WrZHfiu",
        "outputId": "6b74acc7-2dbd-426d-90a3-2fdd8f2a727d"
      },
      "execution_count": null,
      "outputs": [
        {
          "output_type": "stream",
          "name": "stdout",
          "text": [
            "МО:  31.0 35.0 14.4 52.0\n",
            "Дисперсии: 64.0 40.0 27.439999999999998 146.0\n"
          ]
        }
      ]
    },
    {
      "cell_type": "code",
      "source": [
        "x = [40, 10]\n",
        "a_1 = lambda x: -(x[0] - ml_1) ** 2 / (2 * sl_1) - (x[1] - mw_1) ** 2 / (2 * sw_1)\n",
        "a1 = lambda x: -(x[0] - ml1) ** 2 / (2 * sl1) - (x[1] - mw1) ** 2 / (2 * sw1)\n",
        "y = np.argmax([a_1(x), a1(x)])\n",
        "\n",
        "print('Номер класса (0 - гусеница, 1 - божья коровка): ', y)"
      ],
      "metadata": {
        "colab": {
          "base_uri": "https://localhost:8080/"
        },
        "id": "vt2VVhiqHq60",
        "outputId": "a8ab41dc-519c-496c-fbf1-5e2ce126de05"
      },
      "execution_count": null,
      "outputs": [
        {
          "output_type": "stream",
          "name": "stdout",
          "text": [
            "Номер класса (0 - гусеница, 1 - божья коровка):  0\n"
          ]
        }
      ]
    }
  ]
}